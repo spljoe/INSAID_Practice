{
  "nbformat": 4,
  "nbformat_minor": 0,
  "metadata": {
    "colab": {
      "name": "PythonBasicsQuestions-1536650294362_Joe.ipynb",
      "version": "0.3.2",
      "provenance": [],
      "collapsed_sections": [
        "U_i8L-7sQUZI",
        "rimXSIBmQUZu",
        "cKrfeENiQUZ0",
        "c7jxATMnQUZ6",
        "2dimVVTmQUaE",
        "fTk8n6cuQUaJ",
        "_UKFMycxQUaM",
        "PUAvyb4sQUaV",
        "VSMXDWNaQUaZ",
        "wAvKWDKrQUae",
        "_Oy5540JQUak",
        "fP0ggmt_QUan",
        "_KMnf1hXQUar",
        "zZX66cUcQUav",
        "3MLsLM73QUax",
        "zcRUJv_nQUa0",
        "SIP1DRKxQUa4",
        "HRUQdtCGQUa7",
        "MTiwK3dMQUbB",
        "SJhSY-QdQUbG",
        "-RmyVYQOQUbL"
      ],
      "include_colab_link": true
    },
    "language_info": {
      "codemirror_mode": {
        "name": "ipython",
        "version": 3
      },
      "file_extension": ".py",
      "mimetype": "text/x-python",
      "name": "python",
      "nbconvert_exporter": "python",
      "pygments_lexer": "ipython3",
      "version": "3.6.5"
    },
    "kernelspec": {
      "display_name": "Python 3",
      "language": "python",
      "name": "python3"
    }
  },
  "cells": [
    {
      "cell_type": "markdown",
      "metadata": {
        "id": "view-in-github",
        "colab_type": "text"
      },
      "source": [
        "<a href=\"https://colab.research.google.com/github/spljoe/INSAID_Practice/blob/master/PythonBasicsQuestions_1536650294362_Joe.ipynb\" target=\"_parent\"><img src=\"https://colab.research.google.com/assets/colab-badge.svg\" alt=\"Open In Colab\"/></a>"
      ]
    },
    {
      "cell_type": "markdown",
      "metadata": {
        "id": "KKIhDpmyQUXh",
        "colab_type": "text"
      },
      "source": [
        "<img src='https://www.insaid.co/wp-content/uploads/2018/04/INSAID_Logo-1.png' height=\"240\" width=\"360\"/>\n",
        "<br/>\n",
        "# Python basics"
      ]
    },
    {
      "cell_type": "markdown",
      "metadata": {
        "collapsed": true,
        "id": "v0QmAjj2QUXi",
        "colab_type": "text"
      },
      "source": [
        "### 1.Write a Python program to print the following string\n",
        "\n",
        "Sample String: \"Welcome to INSAID- International School of AI and Data Science\"\n",
        "\n"
      ]
    },
    {
      "cell_type": "code",
      "metadata": {
        "id": "l5K_35qVQUXk",
        "colab_type": "code",
        "colab": {
          "base_uri": "https://localhost:8080/",
          "height": 34
        },
        "outputId": "4fe1222f-404d-422c-88a6-5f5e232b9332"
      },
      "source": [
        "print ('''Welcome to INSAID- International School of AI and Data Science''')"
      ],
      "execution_count": 3,
      "outputs": [
        {
          "output_type": "stream",
          "text": [
            "Welcome to INSAID- International School of AI and Data Science\n"
          ],
          "name": "stdout"
        }
      ]
    },
    {
      "cell_type": "markdown",
      "metadata": {
        "id": "3iKc1DYgQUXq",
        "colab_type": "text"
      },
      "source": [
        "### 1.1 In a “Hello, World!” program, a comment may look like this:"
      ]
    },
    {
      "cell_type": "code",
      "metadata": {
        "id": "1ijYETkzQUXr",
        "colab_type": "code",
        "colab": {
          "base_uri": "https://localhost:8080/",
          "height": 34
        },
        "outputId": "c64f2b13-eb1d-422f-ab4b-777429a79917"
      },
      "source": [
        "# Print “Hello, World!” to console\n",
        "print(\"Hello, World!\")\n"
      ],
      "execution_count": 5,
      "outputs": [
        {
          "output_type": "stream",
          "text": [
            "Hello, World!\n"
          ],
          "name": "stdout"
        }
      ]
    },
    {
      "cell_type": "code",
      "metadata": {
        "id": "P2_8zIzwQUXv",
        "colab_type": "code",
        "colab": {
          "base_uri": "https://localhost:8080/",
          "height": 136
        },
        "outputId": "99c65df9-b551-4e7f-9692-809b7ff3e7ae"
      },
      "source": [
        "# Define sharks variable as a list of strings ('hammer', 'white', 'fish', 'frilled', 'bullhead', 'requiem')\n",
        "\n",
        "\n",
        "# For loop that iterates over sharks list and prints each string item\n",
        "sharks = ['hammer', 'white', 'fish', 'frilled', 'bullhead', 'requiem']\n",
        "cnt=len(sharks)\n",
        "for i in range(cnt):\n",
        " # print (i)\n",
        "  print(sharks[i])\n",
        "print('End of Program')\n"
      ],
      "execution_count": 13,
      "outputs": [
        {
          "output_type": "stream",
          "text": [
            "hammer\n",
            "white\n",
            "fish\n",
            "frilled\n",
            "bullhead\n",
            "requiem\n",
            "End of Program\n"
          ],
          "name": "stdout"
        }
      ]
    },
    {
      "cell_type": "markdown",
      "metadata": {
        "id": "W3maGeUdQUXy",
        "colab_type": "text"
      },
      "source": [
        "### 2.Write a Python Program to Add Two Numbers"
      ]
    },
    {
      "cell_type": "code",
      "metadata": {
        "id": "3Chf4rzsQUXz",
        "colab_type": "code",
        "colab": {
          "base_uri": "https://localhost:8080/",
          "height": 85
        },
        "outputId": "5db21893-5124-4a10-9a80-d19e82fcaa61"
      },
      "source": [
        "# initialise two varaibles\n",
        "\n",
        "\n",
        "# Add two numbers\n",
        "\n",
        "\n",
        "# Display the sum\n",
        "import math\n",
        "a=0\n",
        "b=0\n",
        "a=input(a)\n",
        "b=input(b)\n",
        "print ( int(a)+int(b))\n",
        "'''\n",
        "mylist = [3,5,4,6,9]\n",
        "sum = math. sum(mylist)\n",
        "print(sum)\n",
        "'''"
      ],
      "execution_count": 35,
      "outputs": [
        {
          "output_type": "stream",
          "text": [
            "020\n",
            "032\n",
            "52\n"
          ],
          "name": "stdout"
        },
        {
          "output_type": "execute_result",
          "data": {
            "text/plain": [
              "'\\nmylist = [3,5,4,6,9]\\nsum = math. sum(mylist)\\nprint(sum)\\n'"
            ]
          },
          "metadata": {
            "tags": []
          },
          "execution_count": 35
        }
      ]
    },
    {
      "cell_type": "markdown",
      "metadata": {
        "id": "qejfzkt9QUX2",
        "colab_type": "text"
      },
      "source": [
        "### 3.Write a Python Program to Find the product of two numbers"
      ]
    },
    {
      "cell_type": "code",
      "metadata": {
        "id": "SK6CE-TOQUX3",
        "colab_type": "code",
        "colab": {}
      },
      "source": [
        "# initialise two varaibles\n",
        "\n",
        "\n",
        "# multiply two numbers\n",
        "\n",
        "\n",
        "# Display the sum\n",
        "\n"
      ],
      "execution_count": 0,
      "outputs": []
    },
    {
      "cell_type": "markdown",
      "metadata": {
        "id": "m5mpciMkQUX8",
        "colab_type": "text"
      },
      "source": [
        "### 4.Write a python program to find the area of triangle given height and base of the triangle as 3 and 10."
      ]
    },
    {
      "cell_type": "code",
      "metadata": {
        "id": "deWvaFRHQUX9",
        "colab_type": "code",
        "colab": {
          "base_uri": "https://localhost:8080/",
          "height": 34
        },
        "outputId": "1562218c-d659-4313-df90-3d2244602471"
      },
      "source": [
        "# Area of the triangle A= 1/2(base * height)\n",
        "\n",
        "#given height=3 and base =10\n",
        "\n",
        "hght = 3\n",
        "base = 10\n",
        "area=0\n",
        "area = (base * hght)/2\n",
        "print(area)\n",
        "\n"
      ],
      "execution_count": 40,
      "outputs": [
        {
          "output_type": "stream",
          "text": [
            "15.0\n"
          ],
          "name": "stdout"
        }
      ]
    },
    {
      "cell_type": "markdown",
      "metadata": {
        "id": "Zlc0butGQUYA",
        "colab_type": "text"
      },
      "source": [
        "### 5.Python Program to Swap Two Variables"
      ]
    },
    {
      "cell_type": "code",
      "metadata": {
        "id": "7f66WG5JQUYB",
        "colab_type": "code",
        "colab": {
          "base_uri": "https://localhost:8080/",
          "height": 51
        },
        "outputId": "2947b8ba-cc9e-4ea6-bcb7-be04a5e398db"
      },
      "source": [
        "# initialise two varaibles\n",
        "\n",
        "\n",
        "\n",
        "# create a temporary variable and swap the values\n",
        "\n",
        "a=10\n",
        "b=20\n",
        "a,b=b,a\n",
        "print(a)\n",
        "print(b)"
      ],
      "execution_count": 38,
      "outputs": [
        {
          "output_type": "stream",
          "text": [
            "20\n",
            "10\n"
          ],
          "name": "stdout"
        }
      ]
    },
    {
      "cell_type": "markdown",
      "metadata": {
        "id": "JuaJZdEnQUYE",
        "colab_type": "text"
      },
      "source": [
        "## Section"
      ]
    },
    {
      "cell_type": "markdown",
      "metadata": {
        "collapsed": true,
        "id": "iKEDxBmEQUYH",
        "colab_type": "text"
      },
      "source": [
        "### 1.Write a python program to print datatype of a varaible"
      ]
    },
    {
      "cell_type": "code",
      "metadata": {
        "id": "R2xKUmMfQUYI",
        "colab_type": "code",
        "colab": {
          "base_uri": "https://localhost:8080/",
          "height": 68
        },
        "outputId": "505f9a7e-1157-4575-c3d7-9ece73337ddb"
      },
      "source": [
        "a = 1\n",
        "\n",
        "\n",
        "b = 2.0\n",
        "\n",
        "\n",
        "c = 1+2j\n",
        "\n",
        "print(type(a))\n",
        "print(type(b))\n",
        "print(type(c))\n"
      ],
      "execution_count": 41,
      "outputs": [
        {
          "output_type": "stream",
          "text": [
            "<class 'int'>\n",
            "<class 'float'>\n",
            "<class 'complex'>\n"
          ],
          "name": "stdout"
        }
      ]
    },
    {
      "cell_type": "markdown",
      "metadata": {
        "id": "m7XIum9PQUYN",
        "colab_type": "text"
      },
      "source": [
        "### 2.Write a python program to extract an item or a range of items from a list.\n",
        "\n"
      ]
    },
    {
      "cell_type": "code",
      "metadata": {
        "id": "uM7KA2AeQUYO",
        "colab_type": "code",
        "colab": {
          "base_uri": "https://localhost:8080/",
          "height": 102
        },
        "outputId": "e47cfef9-a116-4819-ebe2-fcb266298317"
      },
      "source": [
        "a = [15,20,35,40,45,30,35,60]\n",
        "\n",
        "# Print the item at index 2\n",
        "print(a[2])\n",
        "\n",
        "# Print the first 3 items\n",
        "print(a[:3])\n",
        "\n",
        "# Print the last 3 items\n",
        "print(a[-3:])\n",
        "print(a[-1:])\n",
        "\n",
        "# Start to third last item\n",
        "print(a[:-2])"
      ],
      "execution_count": 55,
      "outputs": [
        {
          "output_type": "stream",
          "text": [
            "35\n",
            "[15, 20, 35]\n",
            "[30, 35, 60]\n",
            "[60]\n",
            "[15, 20, 35, 40, 45, 30]\n"
          ],
          "name": "stdout"
        }
      ]
    },
    {
      "cell_type": "markdown",
      "metadata": {
        "id": "r1M9IjYjQUYS",
        "colab_type": "text"
      },
      "source": [
        "### 3.Converting Floats to Integers\n"
      ]
    },
    {
      "cell_type": "code",
      "metadata": {
        "id": "XqdqdIhOQUYS",
        "colab_type": "code",
        "colab": {
          "base_uri": "https://localhost:8080/",
          "height": 51
        },
        "outputId": "abf9a933-6f3c-4252-ca61-0c8a84d6f7f5"
      },
      "source": [
        "b = 125.0\n",
        "c = 390.8\n",
        "\n",
        "# Print the Integer values\n",
        "print(int(b))\n",
        "print(int(c))"
      ],
      "execution_count": 58,
      "outputs": [
        {
          "output_type": "stream",
          "text": [
            "125\n",
            "390\n"
          ],
          "name": "stdout"
        }
      ]
    },
    {
      "cell_type": "markdown",
      "metadata": {
        "id": "jbkoUFwLQUYV",
        "colab_type": "text"
      },
      "source": [
        "### 4.Converting Numbers to Strings"
      ]
    },
    {
      "cell_type": "code",
      "metadata": {
        "id": "XeYECQTQQUYW",
        "colab_type": "code",
        "colab": {
          "base_uri": "https://localhost:8080/",
          "height": 51
        },
        "outputId": "5beb21c8-ae61-4867-a257-89bba9fb132c"
      },
      "source": [
        "a = 10\n",
        "\n",
        "print(a, \"is of type\", type(a))\n",
        "\n",
        "# Convert the value in a to a string and then print\n",
        "a=str(a)\n",
        "print(a, \"is of type: \", type(a))"
      ],
      "execution_count": 63,
      "outputs": [
        {
          "output_type": "stream",
          "text": [
            "10 is of type <class 'int'>\n",
            "10 is of type:  <class 'str'>\n"
          ],
          "name": "stdout"
        }
      ]
    },
    {
      "cell_type": "markdown",
      "metadata": {
        "id": "H-FNMrN0QUYa",
        "colab_type": "text"
      },
      "source": [
        "### 5.Converting Strings to Numbers"
      ]
    },
    {
      "cell_type": "code",
      "metadata": {
        "id": "XWszIszAQUYa",
        "colab_type": "code",
        "colab": {
          "base_uri": "https://localhost:8080/",
          "height": 34
        },
        "outputId": "ea7a1797-2f75-4794-d514-97543e283b89"
      },
      "source": [
        "a = \"50\"\n",
        "b = \"108\"\n",
        "\n",
        "# Find the difference between a and b\n",
        "print('Difference between a and b: ',int(a)-int(b))"
      ],
      "execution_count": 65,
      "outputs": [
        {
          "output_type": "stream",
          "text": [
            "Difference between a and b:  -58\n"
          ],
          "name": "stdout"
        }
      ]
    },
    {
      "cell_type": "markdown",
      "metadata": {
        "id": "mCzDqgsLQUYe",
        "colab_type": "text"
      },
      "source": [
        "### 6.Converting list to Tuples"
      ]
    },
    {
      "cell_type": "code",
      "metadata": {
        "id": "PHIDt-CgQUYf",
        "colab_type": "code",
        "colab": {
          "base_uri": "https://localhost:8080/",
          "height": 51
        },
        "outputId": "f812f057-8bac-479c-d282-19b0465ab29f"
      },
      "source": [
        "myList = ['request', 'source', 'repository', 'branch']\n",
        "\n",
        "# Print myList to a Tuple\n",
        "mytuple = tuple(myList)\n",
        "print(mytuple)\n",
        "print(type(mytuple))"
      ],
      "execution_count": 68,
      "outputs": [
        {
          "output_type": "stream",
          "text": [
            "('request', 'source', 'repository', 'branch')\n",
            "<class 'tuple'>\n"
          ],
          "name": "stdout"
        }
      ]
    },
    {
      "cell_type": "markdown",
      "metadata": {
        "id": "s3goiUMjQUYi",
        "colab_type": "text"
      },
      "source": [
        "### 7.Converting tuple to Lists"
      ]
    },
    {
      "cell_type": "code",
      "metadata": {
        "id": "pLRi6p9gQUYi",
        "colab_type": "code",
        "colab": {
          "base_uri": "https://localhost:8080/",
          "height": 34
        },
        "outputId": "82adb7d8-2eb0-4f08-8eff-a1eb2d8105d4"
      },
      "source": [
        "myTuple = ('blue', 'red', 'white')\n",
        "\n",
        "# Print myTuple to a List\n",
        "mylist = list(myTuple)\n",
        "print(type(mylist))"
      ],
      "execution_count": 67,
      "outputs": [
        {
          "output_type": "stream",
          "text": [
            "<class 'list'>\n"
          ],
          "name": "stdout"
        }
      ]
    },
    {
      "cell_type": "markdown",
      "metadata": {
        "collapsed": true,
        "id": "gkQaEwldQUYl",
        "colab_type": "text"
      },
      "source": [
        "### 8.converting strings to lists:"
      ]
    },
    {
      "cell_type": "code",
      "metadata": {
        "id": "23ggJ1JUQUYn",
        "colab_type": "code",
        "colab": {
          "base_uri": "https://localhost:8080/",
          "height": 51
        },
        "outputId": "34c509ff-e843-43cf-a92a-1cccaaa53d79"
      },
      "source": [
        "myString = 'INSAID'\n",
        "\n",
        "# Convert myString to List\n",
        "# mylist.append function\n",
        "mylist = []\n",
        "cnt=len(myString)\n",
        "for i in range(cnt):\n",
        "  mylist.append(myString[i])\n",
        "print(mylist)\n",
        "print(type(mylist))\n"
      ],
      "execution_count": 107,
      "outputs": [
        {
          "output_type": "stream",
          "text": [
            "['I', 'N', 'S', 'A', 'I', 'D']\n",
            "<class 'list'>\n"
          ],
          "name": "stdout"
        }
      ]
    },
    {
      "cell_type": "markdown",
      "metadata": {
        "id": "wNR9vpt2QUYr",
        "colab_type": "text"
      },
      "source": [
        "### 9.Assign different data types to a varibles"
      ]
    },
    {
      "cell_type": "code",
      "metadata": {
        "id": "Kxzb5MYsQUYt",
        "colab_type": "code",
        "colab": {
          "base_uri": "https://localhost:8080/",
          "height": 187
        },
        "outputId": "79501f97-f7cb-4b86-9618-bce52021b3e0"
      },
      "source": [
        "# Try string, float, boolean, list, tuple, dictionary\n",
        "a='10'\n",
        "b= 10\n",
        "c=10.0\n",
        "d=True\n",
        "e=[]\n",
        "myDict = {'K1':[10], 'K2':[20]}\n",
        "f=tuple([1,2,3,4])\n",
        "print('a is {x1}'.format(x1=type(a)))\n",
        "print('a is {}'.format(a))\n",
        "print (f'a is {a}')\n",
        "print(type(b))\n",
        "print(type(c))\n",
        "print(type(d))\n",
        "print(type(e))\n",
        "print(type(f))\n",
        "print(f)\n",
        "print(f[1])\n",
        "\n",
        "\n"
      ],
      "execution_count": 135,
      "outputs": [
        {
          "output_type": "stream",
          "text": [
            "a is <class 'str'>\n",
            "a is 10\n",
            "a is 10\n",
            "<class 'int'>\n",
            "<class 'float'>\n",
            "<class 'bool'>\n",
            "<class 'list'>\n",
            "<class 'tuple'>\n",
            "(1, 2, 3, 4)\n",
            "2\n"
          ],
          "name": "stdout"
        }
      ]
    },
    {
      "cell_type": "markdown",
      "metadata": {
        "id": "D3K2dSxcQUY0",
        "colab_type": "text"
      },
      "source": [
        "## Section"
      ]
    },
    {
      "cell_type": "markdown",
      "metadata": {
        "collapsed": true,
        "id": "qKrsODnMQUY1",
        "colab_type": "text"
      },
      "source": [
        "### Print out a string that uses a formatter"
      ]
    },
    {
      "cell_type": "code",
      "metadata": {
        "id": "GicWg2deQUY2",
        "colab_type": "code",
        "colab": {
          "base_uri": "https://localhost:8080/",
          "height": 51
        },
        "outputId": "29c0c4d1-f4e1-4ea5-eb7f-0fc5782363e3"
      },
      "source": [
        "# Print \"john has 5 cars.\" using formatter\n",
        "name = 'John'\n",
        "num = 5\n",
        "print('{} has {} cars'.format(name,num))\n",
        "print('{1} has {0} cars'.format(num,name))"
      ],
      "execution_count": 139,
      "outputs": [
        {
          "output_type": "stream",
          "text": [
            "John has 5 cars\n",
            "John has 5 cars\n"
          ],
          "name": "stdout"
        }
      ]
    },
    {
      "cell_type": "markdown",
      "metadata": {
        "id": "0efft_XQQUY4",
        "colab_type": "text"
      },
      "source": [
        "### We can also assign a variable to be equal to the value of a string that has formatter placeholders:"
      ]
    },
    {
      "cell_type": "code",
      "metadata": {
        "id": "YSVrXhN9QUY6",
        "colab_type": "code",
        "colab": {
          "base_uri": "https://localhost:8080/",
          "height": 34
        },
        "outputId": "fb0bf6ec-dd2b-426f-987c-eb9762ca9896"
      },
      "source": [
        "open_string = \"john likes {}.\"\n",
        "\n",
        "# Use format method to print the following output \"john likes open source.\"\n",
        "print(open_string.format(\"open source\"))\n"
      ],
      "execution_count": 140,
      "outputs": [
        {
          "output_type": "stream",
          "text": [
            "john likes open source.\n"
          ],
          "name": "stdout"
        }
      ]
    },
    {
      "cell_type": "markdown",
      "metadata": {
        "id": "5EEMWqRnQUY8",
        "colab_type": "text"
      },
      "source": [
        "### Using Formatters with Multiple Placeholders"
      ]
    },
    {
      "cell_type": "code",
      "metadata": {
        "id": "csX11z6hQUY-",
        "colab_type": "code",
        "colab": {}
      },
      "source": [
        "new_open_string = \"john likes {} {}.\"                      #2 {} placeholders\n",
        "# Pass 2 strings into format method, separated by a comma to get output \"john likes open-source software.\""
      ],
      "execution_count": 0,
      "outputs": []
    },
    {
      "cell_type": "code",
      "metadata": {
        "id": "pPxO9HhMQUZC",
        "colab_type": "code",
        "colab": {}
      },
      "source": [
        "sammy_string = \"john loves {} {}, and has {} {}.\"                      #4 {} placeholders\n",
        "# Pass 4 strings into method to get output \"john loves open-source software, and has 5 balloons.\""
      ],
      "execution_count": 0,
      "outputs": []
    },
    {
      "cell_type": "markdown",
      "metadata": {
        "id": "vrKOYF9fQUZF",
        "colab_type": "text"
      },
      "source": [
        "### Reordering Formatters with Positional and Keyword Arguments\n"
      ]
    },
    {
      "cell_type": "code",
      "metadata": {
        "id": "o04eeoq9QUZG",
        "colab_type": "code",
        "colab": {
          "base_uri": "https://localhost:8080/",
          "height": 51
        },
        "outputId": "bd59f68c-dc17-4cbd-ab20-9b12c62c34bd"
      },
      "source": [
        "# Reference sample\n",
        "print(\"john the {} has a pet {}!\".format(\"shark\", \"pilot fish\"))\n",
        "print(\"john the {1} has a pet {0}!\".format(\"shark\", \"pilot fish\"))\n"
      ],
      "execution_count": 1,
      "outputs": [
        {
          "output_type": "stream",
          "text": [
            "john the shark has a pet pilot fish!\n",
            "john the pilot fish has a pet shark!\n"
          ],
          "name": "stdout"
        }
      ]
    },
    {
      "cell_type": "markdown",
      "metadata": {
        "id": "U_i8L-7sQUZI",
        "colab_type": "text"
      },
      "source": [
        "### We can pass these index numbers into the curly braces that serve as the placeholders in the original string:"
      ]
    },
    {
      "cell_type": "code",
      "metadata": {
        "id": "P12VIA8fQUZJ",
        "colab_type": "code",
        "colab": {}
      },
      "source": [
        "# Reference Sample\n",
        "print(\"john the {0} has a pet {1}!\".format(\"shark\", \"pilot fish\"))\n",
        "\n",
        "print(\"john is a {}, {}, and {} {}!\".format(\"happy\", \"smiling\", \"blue\", \"shark\"))\n"
      ],
      "execution_count": 0,
      "outputs": []
    },
    {
      "cell_type": "markdown",
      "metadata": {
        "id": "10Bh2t7DQUZM",
        "colab_type": "text"
      },
      "source": [
        "### Python Program to Get String Input from User\n"
      ]
    },
    {
      "cell_type": "code",
      "metadata": {
        "id": "fjvebxFTQUZN",
        "colab_type": "code",
        "colab": {
          "base_uri": "https://localhost:8080/",
          "height": 68
        },
        "outputId": "cd48cfd9-528c-45cb-89ab-0bcb58dd8f9c"
      },
      "source": [
        "#Enter any string and print it\n",
        "print(\"Please enter your name: \")\n",
        "Name = input()\n",
        "print('Your Name is: ',Name)"
      ],
      "execution_count": 82,
      "outputs": [
        {
          "output_type": "stream",
          "text": [
            "Please enter your name: \n",
            "Joe\n",
            "Your Name is:  Joe\n"
          ],
          "name": "stdout"
        }
      ]
    },
    {
      "cell_type": "markdown",
      "metadata": {
        "collapsed": true,
        "id": "vTHTW8tLQUZS",
        "colab_type": "text"
      },
      "source": [
        "### Python program for conditional statements\n",
        "\n",
        "### 1)If the student receives over 65% on her test, report that her grade passes; if not, report that her grade fails"
      ]
    },
    {
      "cell_type": "code",
      "metadata": {
        "id": "IFbY5NkKQUZT",
        "colab_type": "code",
        "colab": {
          "base_uri": "https://localhost:8080/",
          "height": 34
        },
        "outputId": "c75a39a9-17ac-42b6-d294-2619a8b6a03b"
      },
      "source": [
        "grade = 70\n",
        "if grade > 65:\n",
        "  print('You PASSED.')\n",
        "else:\n",
        "  print('You failed.')\n"
      ],
      "execution_count": 83,
      "outputs": [
        {
          "output_type": "stream",
          "text": [
            "You PASSED.\n"
          ],
          "name": "stdout"
        }
      ]
    },
    {
      "cell_type": "code",
      "metadata": {
        "id": "UyAPd9ylQUZY",
        "colab_type": "code",
        "colab": {
          "base_uri": "https://localhost:8080/",
          "height": 34
        },
        "outputId": "748bd39c-0379-48f5-f85c-8681b1d4a768"
      },
      "source": [
        "# Use only if\n",
        "grade = 60\n",
        "if grade > 65:\n",
        "  print('You passed.')\n",
        "if grade < 65:\n",
        "  print('Sorry, failure!')\n"
      ],
      "execution_count": 84,
      "outputs": [
        {
          "output_type": "stream",
          "text": [
            "Sorry, failure!\n"
          ],
          "name": "stdout"
        }
      ]
    },
    {
      "cell_type": "markdown",
      "metadata": {
        "id": "x2WEKVKEQUZd",
        "colab_type": "text"
      },
      "source": [
        "### Write a python program calculate whether a bank account balance is below 0 and print appropriate message."
      ]
    },
    {
      "cell_type": "code",
      "metadata": {
        "id": "vEavk3GKQUZe",
        "colab_type": "code",
        "colab": {
          "base_uri": "https://localhost:8080/",
          "height": 34
        },
        "outputId": "64e95fe1-3647-4386-834e-d70b25c4ac27"
      },
      "source": [
        "# Use if else\n",
        "bal = 522\n",
        "if bal < 0:\n",
        "  print(\"Account balance has gone below zero.\")\n",
        "else:\n",
        "  print(\"You have a balance more than zero\")\n"
      ],
      "execution_count": 78,
      "outputs": [
        {
          "output_type": "stream",
          "text": [
            "You have a balance more than zero\n"
          ],
          "name": "stdout"
        }
      ]
    },
    {
      "cell_type": "markdown",
      "metadata": {
        "id": "kJhvY1eZQUZh",
        "colab_type": "text"
      },
      "source": [
        "### Using Else if statement"
      ]
    },
    {
      "cell_type": "code",
      "metadata": {
        "id": "2XP1AkrTQUZj",
        "colab_type": "code",
        "colab": {
          "base_uri": "https://localhost:8080/",
          "height": 34
        },
        "outputId": "09211663-2886-46e5-d718-407c5594acbe"
      },
      "source": [
        "bal = 522\n",
        "if bal < 0:\n",
        "  print(\"Account balance has gone below zero.\")\n",
        "elif bal<5000:\n",
        "  print(\"Account balance has gone below minimum balance of 5000, please maintain minimum balance to avoid penalty and charges.\")\n",
        "else:\n",
        "  print(\"You have sufficient account balance.\")\n"
      ],
      "execution_count": 79,
      "outputs": [
        {
          "output_type": "stream",
          "text": [
            "Account balance has gone below minimum balance of 5000, please maintain minimum balance to avoid penalty and charges.\n"
          ],
          "name": "stdout"
        }
      ]
    },
    {
      "cell_type": "markdown",
      "metadata": {
        "id": "6KNVn2HMQUZo",
        "colab_type": "text"
      },
      "source": [
        "### Python program to print  Fibonacci series between 0 to 50."
      ]
    },
    {
      "cell_type": "code",
      "metadata": {
        "id": "vtZA7BU9QUZp",
        "colab_type": "code",
        "colab": {}
      },
      "source": [
        ""
      ],
      "execution_count": 0,
      "outputs": []
    },
    {
      "cell_type": "markdown",
      "metadata": {
        "id": "rimXSIBmQUZu",
        "colab_type": "text"
      },
      "source": [
        "### Python program to find numbers which are divisible by 7 and multiple of 5 between a range 150 to 270"
      ]
    },
    {
      "cell_type": "code",
      "metadata": {
        "id": "p7yov97gQUZv",
        "colab_type": "code",
        "colab": {}
      },
      "source": [
        ""
      ],
      "execution_count": 0,
      "outputs": []
    },
    {
      "cell_type": "markdown",
      "metadata": {
        "id": "cKrfeENiQUZ0",
        "colab_type": "text"
      },
      "source": [
        "### Python program to Sum all the items in a list"
      ]
    },
    {
      "cell_type": "code",
      "metadata": {
        "id": "UF3ujcToQUZ3",
        "colab_type": "code",
        "colab": {}
      },
      "source": [
        "def sum_list(items):\n",
        "    # Your code here\n",
        "    return # Your variable\n",
        "print(sum_list([20,12,20,22]))"
      ],
      "execution_count": 0,
      "outputs": []
    },
    {
      "cell_type": "markdown",
      "metadata": {
        "id": "c7jxATMnQUZ6",
        "colab_type": "text"
      },
      "source": [
        "### Python program to Remove duplicates from a list."
      ]
    },
    {
      "cell_type": "code",
      "metadata": {
        "id": "B5bqMmB7QUZ7",
        "colab_type": "code",
        "colab": {}
      },
      "source": [
        "a = [10,20,30,40,50,60,70,40,80,50,40]\n",
        "\n"
      ],
      "execution_count": 0,
      "outputs": []
    },
    {
      "cell_type": "markdown",
      "metadata": {
        "id": "2dimVVTmQUaE",
        "colab_type": "text"
      },
      "source": [
        "### Python program to Get the largest number from a list."
      ]
    },
    {
      "cell_type": "code",
      "metadata": {
        "id": "QPj-gHsTQUaH",
        "colab_type": "code",
        "colab": {}
      },
      "source": [
        "def max_num_in_list( list ):\n",
        "    # Your code\n",
        "    return # Maximum value\n",
        "print(max_num_in_list([1, 12, 28, 0]))"
      ],
      "execution_count": 0,
      "outputs": []
    },
    {
      "cell_type": "markdown",
      "metadata": {
        "id": "fTk8n6cuQUaJ",
        "colab_type": "text"
      },
      "source": [
        "### Concatenation of Tuples."
      ]
    },
    {
      "cell_type": "code",
      "metadata": {
        "id": "gVaeTf1cQUaK",
        "colab_type": "code",
        "colab": {}
      },
      "source": [
        "# Code for concatenating 2 tuples\n",
        " \n",
        "tuple1 = (0, 1, 2, 3)\n",
        "tuple2 = ('python', 'code')\n",
        " \n",
        "# Concatenating above two\n",
        "print('''Your code here''')"
      ],
      "execution_count": 0,
      "outputs": []
    },
    {
      "cell_type": "markdown",
      "metadata": {
        "id": "_UKFMycxQUaM",
        "colab_type": "text"
      },
      "source": [
        "### Nesting of Tuples."
      ]
    },
    {
      "cell_type": "code",
      "metadata": {
        "id": "Li1TbQUNQUaS",
        "colab_type": "code",
        "colab": {}
      },
      "source": [
        "# Code for creating nested tuples\n",
        " \n",
        "tuple1 = (0, 1, 2, 3)\n",
        "tuple2 = ('python', 'code')\n",
        "tuple3  # Your code goes here\n",
        "print(tuple3)\n"
      ],
      "execution_count": 0,
      "outputs": []
    },
    {
      "cell_type": "markdown",
      "metadata": {
        "id": "PUAvyb4sQUaV",
        "colab_type": "text"
      },
      "source": [
        "### Write a Python program to add an item in a tuple."
      ]
    },
    {
      "cell_type": "code",
      "metadata": {
        "id": "LqxwJs7gQUaW",
        "colab_type": "code",
        "colab": {}
      },
      "source": [
        "# Create a tuple & print\n",
        "\n",
        "\n",
        "#tuples are immutable, so you can not add new elements\n",
        "#using merge of tuples with the + operator you can add an element and it will create a new tuple\n",
        "\n",
        "# Adding items in a specific index\n",
        "\n"
      ],
      "execution_count": 0,
      "outputs": []
    },
    {
      "cell_type": "markdown",
      "metadata": {
        "id": "VSMXDWNaQUaZ",
        "colab_type": "text"
      },
      "source": [
        "### Write a Python program to remove an item from a tuple."
      ]
    },
    {
      "cell_type": "code",
      "metadata": {
        "id": "gTvhtrWLQUaa",
        "colab_type": "code",
        "colab": {}
      },
      "source": [
        "# Create a tuple and print it\n",
        "\n",
        "# Find a way to remove an item of the tuple (Hint: Use other data types)\n"
      ],
      "execution_count": 0,
      "outputs": []
    },
    {
      "cell_type": "markdown",
      "metadata": {
        "id": "wAvKWDKrQUae",
        "colab_type": "text"
      },
      "source": [
        "### Python Program to Check if a given key already exists in a dictionary."
      ]
    },
    {
      "cell_type": "code",
      "metadata": {
        "id": "BKPa4NKfQUaf",
        "colab_type": "code",
        "colab": {}
      },
      "source": [
        "d = {1: 10, 2: 20, 3: 30, 4: 40, 5: 50, 6: 60}\n",
        "def is_key_present(x):\n",
        "  # Your code goes here\n",
        "  return # Your observation\n",
        "is_key_present(5)\n",
        "is_key_present(9)"
      ],
      "execution_count": 0,
      "outputs": []
    },
    {
      "cell_type": "markdown",
      "metadata": {
        "id": "_Oy5540JQUak",
        "colab_type": "text"
      },
      "source": [
        "### Write a Python script to merge two Python dictionaries."
      ]
    },
    {
      "cell_type": "code",
      "metadata": {
        "id": "9KsHctzvQUak",
        "colab_type": "code",
        "colab": {}
      },
      "source": [
        "d1 = {'a': 100, 'b': 200}\n",
        "d2 = {'x': 300, 'y': 200}\n",
        "\n",
        "# Your code"
      ],
      "execution_count": 0,
      "outputs": []
    },
    {
      "cell_type": "markdown",
      "metadata": {
        "id": "fP0ggmt_QUan",
        "colab_type": "text"
      },
      "source": [
        "### Write a Python function to find the Max of three numbers."
      ]
    },
    {
      "cell_type": "code",
      "metadata": {
        "id": "p8TrZ8TJQUao",
        "colab_type": "code",
        "colab": {}
      },
      "source": [
        "def max_of_two( x, y ):\n",
        "    # Your code here\n",
        "    return # Your answer\n",
        "def max_of_three( x, y, z ):\n",
        "    # Your code here use max_of_two\n",
        "    return # Your answer\n",
        "print(max_of_three(13, 26, -5))"
      ],
      "execution_count": 0,
      "outputs": []
    },
    {
      "cell_type": "markdown",
      "metadata": {
        "collapsed": true,
        "id": "_KMnf1hXQUar",
        "colab_type": "text"
      },
      "source": [
        "### Write a Python program to reverse a string."
      ]
    },
    {
      "cell_type": "code",
      "metadata": {
        "id": "TJDfZXieQUas",
        "colab_type": "code",
        "colab": {}
      },
      "source": [
        "def string_reverse(str1):\n",
        "    # Your code goes here\n",
        "    return # Your answer\n",
        "print(string_reverse('INSAID'))"
      ],
      "execution_count": 0,
      "outputs": []
    },
    {
      "cell_type": "markdown",
      "metadata": {
        "collapsed": true,
        "id": "zZX66cUcQUav",
        "colab_type": "text"
      },
      "source": [
        "### Write a Python function to calculate the factorial of a number "
      ]
    },
    {
      "cell_type": "code",
      "metadata": {
        "id": "cTdD1wqIQUav",
        "colab_type": "code",
        "colab": {}
      },
      "source": [
        "def factorial(n):\n",
        "    # Your code here\n",
        "    return # The answer\n",
        "n=int(input(\"Input a number to compute the factiorial : \"))\n",
        "print(factorial(n))"
      ],
      "execution_count": 0,
      "outputs": []
    },
    {
      "cell_type": "markdown",
      "metadata": {
        "id": "3MLsLM73QUax",
        "colab_type": "text"
      },
      "source": [
        "### Write a Python function to sum all the numbers in a list."
      ]
    },
    {
      "cell_type": "code",
      "metadata": {
        "id": "yq1cQiOAQUay",
        "colab_type": "code",
        "colab": {}
      },
      "source": [
        "def sum(numbers):\n",
        "    # Your code goes here\n",
        "    return # Your Answer\n",
        "print(sum((8, 2, 3, 0, 7)))"
      ],
      "execution_count": 0,
      "outputs": []
    },
    {
      "cell_type": "markdown",
      "metadata": {
        "collapsed": true,
        "id": "zcRUJv_nQUa0",
        "colab_type": "text"
      },
      "source": [
        "### Write a Python function to check whether a number is in a given range."
      ]
    },
    {
      "cell_type": "code",
      "metadata": {
        "id": "9InETRASQUa2",
        "colab_type": "code",
        "colab": {}
      },
      "source": [
        "def test_range(n):\n",
        "    # Your code\n",
        "    return # Your answer \n",
        "test_range(5)"
      ],
      "execution_count": 0,
      "outputs": []
    },
    {
      "cell_type": "markdown",
      "metadata": {
        "id": "SIP1DRKxQUa4",
        "colab_type": "text"
      },
      "source": [
        "### Find the value of pi using math module."
      ]
    },
    {
      "cell_type": "code",
      "metadata": {
        "id": "-mCJHTcIQUa5",
        "colab_type": "code",
        "colab": {}
      },
      "source": [
        "# import statement example\n",
        "# to import standard module math\n",
        "\n",
        "import math\n"
      ],
      "execution_count": 0,
      "outputs": []
    },
    {
      "cell_type": "markdown",
      "metadata": {
        "id": "HRUQdtCGQUa7",
        "colab_type": "text"
      },
      "source": [
        "### Write a Python program to read an entire text file.\n",
        "\n",
        "### Content of text.txt.\n",
        "\n",
        "### What is Python language?      \n",
        "\n",
        "#### Python is a widely used high-level, general-purpose, interpreted, dynamic programming language."
      ]
    },
    {
      "cell_type": "code",
      "metadata": {
        "id": "hLz2QkMdQUa_",
        "colab_type": "code",
        "colab": {}
      },
      "source": [
        "def file_read(fname):\n",
        "    # Your code goes in here\n",
        "    return\n",
        "\n",
        "file_read('test.txt')"
      ],
      "execution_count": 0,
      "outputs": []
    },
    {
      "cell_type": "markdown",
      "metadata": {
        "collapsed": true,
        "id": "MTiwK3dMQUbB",
        "colab_type": "text"
      },
      "source": [
        "### Write a Python program to read a file line by line and store it into a list."
      ]
    },
    {
      "cell_type": "code",
      "metadata": {
        "id": "daslzrELQUbC",
        "colab_type": "code",
        "colab": {}
      },
      "source": [
        "def file_read(fname):\n",
        "        # Your code goes in here\n",
        "        return\n",
        "\n",
        "file_read('test.txt')"
      ],
      "execution_count": 0,
      "outputs": []
    },
    {
      "cell_type": "markdown",
      "metadata": {
        "id": "SJhSY-QdQUbG",
        "colab_type": "text"
      },
      "source": [
        "### A python program to create user-defined exception."
      ]
    },
    {
      "cell_type": "code",
      "metadata": {
        "id": "MGa8P9F2QUbH",
        "colab_type": "code",
        "colab": {},
        "outputId": "bca15212-e45a-4002-cd29-4e4abae55f57"
      },
      "source": [
        "class MyError(Exception):\n",
        " \n",
        "    # Constructor or Initializer\n",
        "    def __init__(self, value):\n",
        "        self.value = value\n",
        " \n",
        "    # __str__ is to print() the value\n",
        "    def __str__(self):\n",
        "        return # Your code goes here to get -> 'A New Exception occured: 0.42857142857142855'\n",
        " \n",
        "try:\n",
        "    raise(MyError(3/7))\n",
        " \n",
        "except MyError as error:\n",
        "    print(error)\n"
      ],
      "execution_count": 0,
      "outputs": [
        {
          "output_type": "stream",
          "text": [
            "A New Exception occured: 0.42857142857142855\n"
          ],
          "name": "stdout"
        }
      ]
    },
    {
      "cell_type": "markdown",
      "metadata": {
        "id": "-RmyVYQOQUbL",
        "colab_type": "text"
      },
      "source": [
        "### Write a Python program to calculate the discriminant value. (b <sup>2</sup> - 4ac)"
      ]
    },
    {
      "cell_type": "code",
      "metadata": {
        "id": "W0umNAuEQUbM",
        "colab_type": "code",
        "colab": {},
        "outputId": "76c07253-f3f1-440f-8d7b-4b06196ed191"
      },
      "source": [
        "def discriminant():\n",
        "    a_value = float(input('The a value: '))\n",
        "    b_value = float(input('The b value: '))\n",
        "    c_value = float(input('The c value: '))\n",
        "    \n",
        "    # Calculate the discriminant here\n",
        "    \n",
        "    return # The value\n",
        "\n",
        "\n",
        "discriminant()\n"
      ],
      "execution_count": 0,
      "outputs": [
        {
          "output_type": "stream",
          "text": [
            "The a value: 11\n",
            "The b value: 111\n",
            "The c value: 111\n"
          ],
          "name": "stdout"
        }
      ]
    },
    {
      "cell_type": "code",
      "metadata": {
        "id": "paXfaY6aQUbP",
        "colab_type": "code",
        "colab": {},
        "outputId": "3ccfe5e1-5830-4007-f781-7bab76477d29"
      },
      "source": [
        "print('Hello World')"
      ],
      "execution_count": 0,
      "outputs": [
        {
          "output_type": "stream",
          "text": [
            "Hello World\n"
          ],
          "name": "stdout"
        }
      ]
    },
    {
      "cell_type": "code",
      "metadata": {
        "id": "WZYjtqYIQUbS",
        "colab_type": "code",
        "colab": {}
      },
      "source": [
        "print('What am I typing are you able to see?')"
      ],
      "execution_count": 0,
      "outputs": []
    }
  ]
}